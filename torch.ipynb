{
 "cells": [
  {
   "cell_type": "code",
   "execution_count": 3,
   "id": "bbeaf87d",
   "metadata": {},
   "outputs": [],
   "source": [
    "import torch\n",
    "import numpy as np\n",
    "import torch.nn as nn"
   ]
  },
  {
   "cell_type": "code",
   "execution_count": 12,
   "metadata": {},
   "outputs": [
    {
     "data": {
      "text/plain": [
       "array([[ 1., -2.],\n",
       "       [ 3.,  4.]], dtype=float32)"
      ]
     },
     "execution_count": 12,
     "metadata": {},
     "output_type": "execute_result"
    }
   ],
   "source": [
    "tensor = torch.tensor([[1,-2],[3,4]])\n",
    "np.asarray(tensor,dtype=np.float32)"
   ]
  },
  {
   "cell_type": "code",
   "execution_count": 5,
   "metadata": {},
   "outputs": [
    {
     "data": {
      "text/plain": [
       "tensor([[ 1, -2],\n",
       "        [ 3,  4]])"
      ]
     },
     "execution_count": 5,
     "metadata": {},
     "output_type": "execute_result"
    }
   ],
   "source": [
    "torch.tensor(np.array([[1,-2],[3,4]]))"
   ]
  },
  {
   "cell_type": "code",
   "execution_count": 6,
   "id": "ca152a62",
   "metadata": {},
   "outputs": [
    {
     "data": {
      "text/plain": [
       "tensor([[0., 0., 0.],\n",
       "        [0., 0., 0.]])"
      ]
     },
     "execution_count": 6,
     "metadata": {},
     "output_type": "execute_result"
    }
   ],
   "source": [
    "torch.zeros([2,3],dtype=torch.float32)"
   ]
  },
  {
   "cell_type": "code",
   "execution_count": 16,
   "id": "a5240c59",
   "metadata": {},
   "outputs": [
    {
     "name": "stdout",
     "output_type": "stream",
     "text": [
      "torch.Size([2, 3, 4])\n"
     ]
    }
   ],
   "source": [
    "A = torch.randn([2,3,4])\n",
    "print(A.shape)\n"
   ]
  },
  {
   "cell_type": "code",
   "execution_count": 17,
   "id": "c6af66ff",
   "metadata": {},
   "outputs": [
    {
     "data": {
      "text/plain": [
       "tensor([[[-1.4806,  0.5916,  0.2895, -1.0113],\n",
       "         [-0.1285, -1.3721, -2.6720, -1.6660],\n",
       "         [-2.6200,  2.2165, -0.3892, -1.3921]],\n",
       "\n",
       "        [[-0.3536,  1.9962,  0.5611,  0.4613],\n",
       "         [ 0.5959,  0.2545,  2.0291,  0.4400],\n",
       "         [-0.2754, -0.8321, -1.3051, -1.2800]]])"
      ]
     },
     "execution_count": 17,
     "metadata": {},
     "output_type": "execute_result"
    }
   ],
   "source": [
    "A"
   ]
  },
  {
   "cell_type": "code",
   "execution_count": null,
   "id": "7ea4867c",
   "metadata": {},
   "outputs": [
    {
     "data": {
      "text/plain": [
       "tensor([[[-1.4806, -0.3536],\n",
       "         [-0.1285,  0.5959],\n",
       "         [-2.6200, -0.2754]],\n",
       "\n",
       "        [[ 0.5916,  1.9962],\n",
       "         [-1.3721,  0.2545],\n",
       "         [ 2.2165, -0.8321]],\n",
       "\n",
       "        [[ 0.2895,  0.5611],\n",
       "         [-2.6720,  2.0291],\n",
       "         [-0.3892, -1.3051]],\n",
       "\n",
       "        [[-1.0113,  0.4613],\n",
       "         [-1.6660,  0.4400],\n",
       "         [-1.3921, -1.2800]]])"
      ]
     },
     "execution_count": 18,
     "metadata": {},
     "output_type": "execute_result"
    }
   ],
   "source": [
    "A_t = torch.transpose(A,0,2) # Pour  transpose un tenseur\n",
    "A_t"
   ]
  },
  {
   "cell_type": "code",
   "execution_count": 20,
   "id": "b0860f2c",
   "metadata": {},
   "outputs": [
    {
     "name": "stdout",
     "output_type": "stream",
     "text": [
      "torch.Size([4, 4])\n"
     ]
    }
   ],
   "source": [
    "A1 = torch.randint(0,10 ,[4,4]) # tenseur de nombre entier entre 0 et 10 de dimention (4,4)\n",
    "print(A1.shape)"
   ]
  },
  {
   "cell_type": "code",
   "execution_count": null,
   "id": "ffa5db93",
   "metadata": {},
   "outputs": [
    {
     "name": "stdout",
     "output_type": "stream",
     "text": [
      "tensor([[3, 6, 4, 0, 3, 0, 1, 2],\n",
      "        [5, 6, 9, 3, 3, 0, 7, 9]])\n"
     ]
    }
   ],
   "source": [
    "print(A1.view([2,8]))  # Reshape en numpy"
   ]
  },
  {
   "cell_type": "code",
   "execution_count": null,
   "id": "8ead585c",
   "metadata": {},
   "outputs": [
    {
     "data": {
      "text/plain": [
       "tensor([3, 6, 4, 0, 3, 0, 1, 2, 5, 6, 9, 3, 3, 0, 7, 9])"
      ]
     },
     "execution_count": 22,
     "metadata": {},
     "output_type": "execute_result"
    }
   ],
   "source": [
    "A1.flatten() # Applatir un tenseur (Mettre à plat)"
   ]
  },
  {
   "cell_type": "code",
   "execution_count": null,
   "id": "ea1d4727",
   "metadata": {},
   "outputs": [],
   "source": [
    "A = torch.randint([2,2] ,dtype=torch.float32)  # Change de type des elements de tenseur"
   ]
  },
  {
   "cell_type": "code",
   "execution_count": 8,
   "id": "4e7e8ccc",
   "metadata": {},
   "outputs": [],
   "source": [
    "# Creation de reseau de neuronne\n",
    "from torch.nn import functional as F\n",
    "class MyModel(nn.Module):\n",
    "    '''\n",
    "    Basic fully connected neural nets\n",
    "    '''\n",
    "    def __init__(self):\n",
    "        hidden1 = 100  # premiere couche dense\n",
    "        hidden2 = 100  # Deuxieme couche dense\n",
    "\n",
    "        super(MyModel,self).__init__()\n",
    "        self.hidden1 = nn.Linear(784,hidden1)\n",
    "        self.hidden2 = nn.Linear(hidden1,hidden2)\n",
    "        self.hidden3 = nn.Linear(hidden2,10)\n",
    "\n",
    "    def forward(self,x):\n",
    "        x = x.view(-1,784)\n",
    "        x = self.hidden1(x)\n",
    "        x = F.relu(x)\n",
    "        x = self.hidden2(x)\n",
    "        x = F.relu(x)\n",
    "        x= self.hidden3(x)\n",
    "        x = F.softmax(x,dim=0)\n",
    "        return x\n"
   ]
  },
  {
   "cell_type": "code",
   "execution_count": 39,
   "id": "a77230c9",
   "metadata": {},
   "outputs": [
    {
     "name": "stdout",
     "output_type": "stream",
     "text": [
      "X : tensor([[-0.3695, -0.4510],\n",
      "        [-0.7250,  1.8645],\n",
      "        [ 0.4800, -0.3903],\n",
      "        [ 0.4195, -0.7938],\n",
      "        [-0.1379,  1.3580]])\n",
      "w : tensor([0.1332, 0.1976], requires_grad=True)\n",
      "y_pred : tensor([-0.1384,  0.2719, -0.0132, -0.1010,  0.2500], grad_fn=<AddBackward0>)\n",
      "X.grad : None\n",
      "w.grad : None\n",
      "y_pred.grad : None\n"
     ]
    }
   ],
   "source": [
    "X  = torch.randn([5,2],requires_grad=False)  #  requires_grad=False => je ne veux pas calculer la grad de X\n",
    "w = torch.randn([2],requires_grad=True)  #  requires_grad=True => je  veux  calculer la grad de X (car mon params à estimer)\n",
    "\n",
    "y_pred = w[0]*X[:,0] + w[1]*X[:,1]\n",
    "y_pred.retain_grad()\n",
    "\n",
    "print('X :',X)\n",
    "print('w :',w)\n",
    "print('y_pred :',y_pred)\n",
    "\n",
    "print('X.grad :',X.grad)\n",
    "print('w.grad :',w.grad)\n",
    "print('y_pred.grad :',y_pred.grad)"
   ]
  },
  {
   "cell_type": "code",
   "execution_count": 40,
   "id": "74160f63",
   "metadata": {},
   "outputs": [
    {
     "name": "stdout",
     "output_type": "stream",
     "text": [
      "y_true : tensor([0., 0., 0., 0., 0.])\n"
     ]
    }
   ],
   "source": [
    "y_true = torch.zeros([5],requires_grad=False)\n",
    "print('y_true :',y_true)\n"
   ]
  },
  {
   "cell_type": "code",
   "execution_count": 41,
   "metadata": {},
   "outputs": [],
   "source": [
    "Risk = (torch.pow(y_pred - y_true,2)).mean()"
   ]
  },
  {
   "cell_type": "code",
   "execution_count": 42,
   "id": "adadf5c8",
   "metadata": {},
   "outputs": [],
   "source": [
    "Risk.backward()"
   ]
  },
  {
   "cell_type": "code",
   "execution_count": 43,
   "id": "bc07310c",
   "metadata": {},
   "outputs": [
    {
     "name": "stdout",
     "output_type": "stream",
     "text": [
      "X.grad : None\n"
     ]
    }
   ],
   "source": [
    "print('X.grad :',X.grad)"
   ]
  },
  {
   "cell_type": "code",
   "execution_count": 44,
   "id": "2ac42c66",
   "metadata": {},
   "outputs": [
    {
     "name": "stdout",
     "output_type": "stream",
     "text": [
      "y_pred.grad : tensor([-0.0553,  0.1088, -0.0053, -0.0404,  0.1000])\n"
     ]
    }
   ],
   "source": [
    "print('y_pred.grad :' ,y_pred.grad)"
   ]
  },
  {
   "cell_type": "code",
   "execution_count": 45,
   "id": "58cb11f8",
   "metadata": {},
   "outputs": [
    {
     "name": "stdout",
     "output_type": "stream",
     "text": [
      "w.grad : tensor([-0.0917,  0.3976])\n"
     ]
    }
   ],
   "source": [
    "print('w.grad :' ,w.grad)"
   ]
  },
  {
   "cell_type": "code",
   "execution_count": 47,
   "id": "5d6b5d63",
   "metadata": {},
   "outputs": [
    {
     "name": "stdout",
     "output_type": "stream",
     "text": [
      "X : tensor([1., 1., 1., 1., 1., 1., 1., 1., 1., 1.], requires_grad=True)\n",
      "y : tensor([1., 1., 1., 1., 1., 1., 1., 1., 1., 1.], grad_fn=<PowBackward0>)\n",
      "z : tensor([1., 1., 1., 1., 1., 1., 1., 1., 1., 1.], grad_fn=<PowBackward0>)\n",
      "r : tensor(20., grad_fn=<SumBackward0>)\n",
      "x.grad : tensor([5., 5., 5., 5., 5., 5., 5., 5., 5., 5.])\n"
     ]
    }
   ],
   "source": [
    "x = torch.ones(10,requires_grad=True)\n",
    "y = x**2\n",
    "z = x**3\n",
    "r = (y+z).sum()\n",
    "r.backward()\n",
    "print('X :' ,x)\n",
    "print('y :' ,y)\n",
    "print('z :',z)\n",
    "print('r :',r)\n",
    "print('x.grad :',x.grad)"
   ]
  },
  {
   "cell_type": "code",
   "execution_count": null,
   "id": "3e86ae17",
   "metadata": {},
   "outputs": [
    {
     "name": "stdout",
     "output_type": "stream",
     "text": [
      "tensor([2., 2., 2., 2., 2., 2., 2., 2., 2., 2.])\n",
      "Z : tensor([1., 1., 1., 1., 1., 1., 1., 1., 1., 1.])\n"
     ]
    }
   ],
   "source": [
    "x = torch.ones(10 ,requires_grad=True)\n",
    "y = x**2\n",
    "z = x.detach()**3  # Version de x mais constante,requires_grad=False\n",
    "\n",
    "r = (y+z).sum()\n",
    "r.backward()\n",
    "\n",
    "print(x.grad)\n",
    "\n",
    "print('Z :',z)"
   ]
  },
  {
   "cell_type": "code",
   "execution_count": null,
   "id": "742bb930",
   "metadata": {},
   "outputs": [
    {
     "name": "stdout",
     "output_type": "stream",
     "text": [
      "r : tensor(6., grad_fn=<SumBackward0>)\n",
      "x.grad : tensor([5., 5., 5.])\n"
     ]
    }
   ],
   "source": [
    "x = torch.ones(3,requires_grad=True)\n",
    "y = x**2\n",
    "z = x**3\n",
    "r = (y + z).sum() # [1^2 + 1^3 ,1^2 + 1^3 ,1^2 + 1^3 ]\n",
    "r.backward()\n",
    "\n",
    "\n",
    "print('r :',r)\n",
    "print('x.grad :',x.grad)"
   ]
  },
  {
   "cell_type": "code",
   "execution_count": 55,
   "id": "f15ecaaa",
   "metadata": {},
   "outputs": [
    {
     "name": "stdout",
     "output_type": "stream",
     "text": [
      "r : tensor(6.)\n",
      "x.grad : None\n"
     ]
    }
   ],
   "source": [
    "x = torch.ones(3 ,requires_grad=True)\n",
    "\n",
    "with torch.no_grad():\n",
    "    y = x**2\n",
    "    z = x**3\n",
    "    r = (y + z).sum()\n",
    "\n",
    "print('r :',r)\n",
    "print('x.grad :',x.grad)"
   ]
  },
  {
   "cell_type": "code",
   "execution_count": 57,
   "id": "886b2695",
   "metadata": {},
   "outputs": [
    {
     "name": "stdout",
     "output_type": "stream",
     "text": [
      "Cuda disponible  False\n",
      "Nombre de divice  0\n"
     ]
    }
   ],
   "source": [
    "print('Cuda disponible ',torch.cuda.is_available())\n",
    "print(\"Nombre de divice \",torch.cuda.device_count())\n",
    "# print('Divice utilisé ',torch.cuda.current_device())\n",
    "# print(\"Nom de divice utilisé \",torch.cuda.get_device_name())"
   ]
  },
  {
   "cell_type": "code",
   "execution_count": null,
   "id": "cf701c51",
   "metadata": {},
   "outputs": [],
   "source": [
    "import torchvision.models as models  # models sont des architecture de reseau de neurone"
   ]
  },
  {
   "cell_type": "code",
   "execution_count": null,
   "id": "7bae8c8c",
   "metadata": {},
   "outputs": [
    {
     "name": "stdout",
     "output_type": "stream",
     "text": [
      "cpu\n",
      "tensor([[ 0.1173, -0.2289, -0.2207, -0.3247, -0.6431],\n",
      "        [-0.2962,  0.0048, -0.2195, -0.2730, -0.3446],\n",
      "        [ 0.1804, -0.1870, -0.5170, -0.7864,  0.0123],\n",
      "        [-0.1935, -0.1209, -0.0383, -0.3184, -0.5742],\n",
      "        [-0.1815,  0.1029, -0.4725, -0.1713, -0.5394],\n",
      "        [-0.1047,  0.8285,  0.0014, -0.5365, -0.3450],\n",
      "        [-0.0050,  0.3172, -0.2243, -0.1803, -0.4370],\n",
      "        [ 0.2733,  0.0315, -0.3158, -0.7414, -0.6371],\n",
      "        [-0.2217, -0.1653, -0.0064, -0.4595, -0.6812],\n",
      "        [-0.0499,  0.2070, -0.5706, -0.4306, -0.6979]],\n",
      "       grad_fn=<AddmmBackward0>)\n"
     ]
    }
   ],
   "source": [
    "DEVICE = torch.device('cude:0' if torch.cuda.is_available() else 'cpu') # DEVICE = \"gpu\" s'il existe ,sinon \"cpu\"\n",
    "print(DEVICE)\n",
    "\n",
    "h_resnet18 = models.resnet18() # h_resnet18 :host_de reseau de neuronne18\n",
    "h_resnet18.fc = nn.Linear(512,5)\n",
    "\n",
    "d_resnet18 = h_resnet18.to(DEVICE) # d_ :device , d_resnet18 = h_resnet18.cuda()\n",
    "\n",
    "h_simulted_data = torch.randn([1000,3,64,64])\n",
    "d_mini_batch = h_simulted_data[0:10,:,:,:].to(DEVICE) # Transfere sur le gpu s'il existe\n",
    "\n",
    "d_outputs = d_resnet18(d_mini_batch)\n",
    "h_outputs = d_outputs.to('cpu') # Transfere sur le cpu ,h_outputs = d_outputs.cpu()\n",
    "\n",
    "print(h_outputs)"
   ]
  },
  {
   "cell_type": "markdown",
   "id": "b9179bd2",
   "metadata": {},
   "source": [
    "# 1) Etude d'un exemple"
   ]
  },
  {
   "cell_type": "code",
   "execution_count": 6,
   "id": "45929748",
   "metadata": {},
   "outputs": [],
   "source": [
    "import torchvision"
   ]
  },
  {
   "cell_type": "code",
   "execution_count": 7,
   "id": "13ef6b5c",
   "metadata": {},
   "outputs": [
    {
     "name": "stderr",
     "output_type": "stream",
     "text": [
      "100.0%\n",
      "100.0%\n",
      "100.0%\n",
      "100.0%\n"
     ]
    }
   ],
   "source": [
    "# Get and format the training set\n",
    "mnist_trainset = torchvision.datasets.MNIST(root='./data',train=True ,download=True ,transform=None)\n",
    "x_train = mnist_trainset.data.type(torch.DoubleTensor)\n",
    "y_train = mnist_trainset.targets\n",
    "\n",
    "# Get and format the test set\n",
    "mnist_testset = torchvision.datasets.MNIST(root='./data' ,train=False ,download=True ,transform=None)\n",
    "x_test = mnist_testset.data.type(torch.DoubleTensor)\n",
    "y_test = mnist_testset.targets"
   ]
  },
  {
   "cell_type": "code",
   "execution_count": null,
   "id": "792a3637",
   "metadata": {},
   "outputs": [],
   "source": [
    "model = MyModel().to(DEVICE) # Mettre dans le carte GPU s'il exist"
   ]
  },
  {
   "cell_type": "code",
   "execution_count": null,
   "id": "e7cda442",
   "metadata": {},
   "outputs": [],
   "source": [
    "# Fonction d'entrainement \n",
    "def fit(model,X_train,Y_train,X_test,Y_tetst,EPOCHS=5,BATCH_SIZE =32):\n",
    "    loss = nn.CrossEntropyLoss()\n",
    "    optimezer = torch.optim.Adam(model.parameters(),lr=1e-3)\n",
    "    model.train()\n",
    "\n",
    "    n = X_train.shape[0]\n",
    "\n",
    "    #stochastic gradient descent\n",
    "    for epoch in EPOCHS:\n",
    "        batch_start = 0\n",
    "        epoch_shuffler = np.arange(n)\n",
    "        np.random.shuffle(epoch_shuffler)\n",
    "\n",
    "        while batch_start + BATCH_SIZE < n:\n",
    "            # Get mini_batch observation\n",
    "            mini_batch_observation = epoch_shuffler[batch_start : batch_start+BATCH_SIZE]\n",
    "            var_X_batch = X_train[mini_batch_observation,:,:].float().to(DEVICE)\n",
    "            var_Y_batch = Y_train[mini_batch_observation]\n",
    "\n",
    "            #Gradient descent step\n",
    "            optimezer.zero_grad()\n",
    "            Y_pred_batch = model(var_X_batch)\n",
    "            curr_loss = loss(Y_pred_batch.to('cpu'),var_Y_batch)\n",
    "            curr_loss.backward()\n",
    "            optimezer.step()\n",
    "\n",
    "            # Prepare the next mini_batch of epoch\n",
    "            batch_start += BATCH_SIZE"
   ]
  }
 ],
 "metadata": {
  "kernelspec": {
   "display_name": "venv",
   "language": "python",
   "name": "python3"
  },
  "language_info": {
   "codemirror_mode": {
    "name": "ipython",
    "version": 3
   },
   "file_extension": ".py",
   "mimetype": "text/x-python",
   "name": "python",
   "nbconvert_exporter": "python",
   "pygments_lexer": "ipython3",
   "version": "3.10.11"
  }
 },
 "nbformat": 4,
 "nbformat_minor": 5
}
