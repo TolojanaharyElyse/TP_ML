{
 "cells": [
  {
   "cell_type": "markdown",
   "id": "f690e868",
   "metadata": {},
   "source": [
    "### Asyncrone pour exectuter des scripte en parallèle"
   ]
  },
  {
   "cell_type": "code",
   "execution_count": 32,
   "id": "2dfcf248",
   "metadata": {},
   "outputs": [],
   "source": [
    "import time\n",
    "import threading\n",
    "import asyncio\n",
    "import tracemalloc\n",
    "tracemalloc.start()\n",
    "import aiohttp\n"
   ]
  },
  {
   "cell_type": "code",
   "execution_count": null,
   "id": "c344a26d",
   "metadata": {},
   "outputs": [],
   "source": [
    "def process_one():\n",
    "    i=0\n",
    "    while i < 3:\n",
    "        print(\"============\")\n",
    "        time.sleep(0.3)  # Attend 0.3s pour executer les suite\n",
    "        i += 1"
   ]
  },
  {
   "cell_type": "code",
   "execution_count": null,
   "metadata": {},
   "outputs": [],
   "source": [
    "def process_two():\n",
    "    i=0\n",
    "    while i < 3:\n",
    "        print(\"xxxxxxxxxx\")\n",
    "        time.sleep(0.3)  # Attend 0.3s pour executer les suite\n",
    "        i += 1"
   ]
  },
  {
   "cell_type": "code",
   "execution_count": 9,
   "id": "cbc09755",
   "metadata": {},
   "outputs": [
    {
     "name": "stdout",
     "output_type": "stream",
     "text": [
      "============\n",
      "xxxxxxxxxx\n",
      "============\n",
      "xxxxxxxxxx\n",
      "============\n",
      "xxxxxxxxxx\n",
      "affichage\n"
     ]
    }
   ],
   "source": [
    "th1 = threading.Thread(target=process_one)\n",
    "th2 = threading.Thread(target=process_two)\n",
    "\n",
    "th1.start()\n",
    "th2.start()\n",
    "\n",
    "th1.join()\n",
    "th2.join()\n",
    "\n",
    "print('affichage')"
   ]
  },
  {
   "cell_type": "code",
   "execution_count": 4,
   "id": "83c71fda",
   "metadata": {},
   "outputs": [
    {
     "name": "stdout",
     "output_type": "stream",
     "text": [
      "============\n",
      "============\n",
      "============\n",
      "xxxxxxxxxx\n",
      "xxxxxxxxxx\n",
      "xxxxxxxxxx\n"
     ]
    }
   ],
   "source": [
    "process_one()\n",
    "process_two()"
   ]
  },
  {
   "cell_type": "code",
   "execution_count": null,
   "id": "8e911e98",
   "metadata": {},
   "outputs": [],
   "source": []
  },
  {
   "cell_type": "code",
   "execution_count": null,
   "id": "1f2dac33",
   "metadata": {},
   "outputs": [],
   "source": [
    "class MyProcess(threading.Thread):\n",
    "    def __init__(self):\n",
    "        threading.Thread.__init__(self)\n",
    "\n",
    "    def run(self):\n",
    "        i=0\n",
    "        while i < 3:\n",
    "            print(threading.current_thread())\n",
    "            time.sleep(0.3) # Attend 0.3s pour executer les suite\n",
    "            i += 1"
   ]
  },
  {
   "cell_type": "code",
   "execution_count": null,
   "id": "0916815b",
   "metadata": {},
   "outputs": [
    {
     "name": "stdout",
     "output_type": "stream",
     "text": [
      "<MyProcess(Thread-102, started 11896)>\n",
      "<MyProcess(Thread-103, started 14888)>\n",
      "<MyProcess(Thread-102, started 11896)>\n",
      "<MyProcess(Thread-103, started 14888)>\n",
      "<MyProcess(Thread-102, started 11896)>\n",
      "<MyProcess(Thread-103, started 14888)>\n",
      "affichage\n"
     ]
    }
   ],
   "source": [
    "th1 = MyProcess()\n",
    "th2 =MyProcess()\n",
    "\n",
    "th1.start()\n",
    "th2.start()\n",
    "\n",
    "th1.join() #Permet de blocker l'execution de processus \n",
    "th2.join()\n",
    "\n",
    "print('affichage')\n"
   ]
  },
  {
   "cell_type": "code",
   "execution_count": null,
   "id": "58eb5127",
   "metadata": {},
   "outputs": [],
   "source": [
    "my_lock = threading.RLock()\n",
    "class MyProcess_1(threading.Thread):\n",
    "    def __init__(self,mark):\n",
    "        threading.Thread.__init__(self)\n",
    "        self.mark = mark\n",
    "\n",
    "    def run(self):\n",
    "        i=0\n",
    "        while i < 3:\n",
    "            with my_lock:\n",
    "                letters = 'ABC'\n",
    "                print(\"=======\"+ self.mark + \"=======\")\n",
    "                for letter in letters:\n",
    "                    print(letter)\n",
    "                    time.sleep(0.3)  # Attend 0.3s pour executer les suite\n",
    "            i += 1"
   ]
  },
  {
   "cell_type": "code",
   "execution_count": 19,
   "id": "e3a9ca66",
   "metadata": {},
   "outputs": [
    {
     "name": "stdout",
     "output_type": "stream",
     "text": [
      "=======proc 1=======\n",
      "A\n",
      "B\n",
      "C\n",
      "=======proc 2=======\n",
      "A\n",
      "B\n",
      "C\n",
      "=======proc 1=======\n",
      "A\n",
      "B\n",
      "C\n",
      "=======proc 2=======\n",
      "A\n",
      "B\n",
      "C\n",
      "=======proc 1=======\n",
      "A\n",
      "B\n",
      "C\n",
      "=======proc 2=======\n",
      "A\n",
      "B\n",
      "C\n",
      "affichage\n"
     ]
    }
   ],
   "source": [
    "th1 = MyProcess_1(mark=\"proc 1\")\n",
    "th2 =MyProcess_1(mark= \"proc 2\")\n",
    "\n",
    "th1.start()\n",
    "th2.start()\n",
    "\n",
    "th1.join() #Permet de blocker l'execution de processus \n",
    "th2.join()\n",
    "\n",
    "print('affichage')"
   ]
  },
  {
   "cell_type": "markdown",
   "id": "b2828ef8",
   "metadata": {},
   "source": [
    "## Utilisation de asyncio"
   ]
  },
  {
   "cell_type": "code",
   "execution_count": 21,
   "id": "7d8213ec",
   "metadata": {},
   "outputs": [],
   "source": [
    "async def send_mes(name , number):\n",
    "    print(f\"Envoye d'un sms à {name} au numero {number}\")\n",
    "    await asyncio.sleep(2)\n",
    "    print('SMS envoyé avec succès')"
   ]
  },
  {
   "cell_type": "code",
   "execution_count": 37,
   "id": "a22e7795",
   "metadata": {},
   "outputs": [],
   "source": [
    "async def main():\n",
    "    await asyncio.gather(\n",
    "        send_mes(\"Elysé\" ,340412284),\n",
    "        recuper_api(),\n",
    "        send_mes(\"ZAndry\" ,31564564)\n",
    "    )\n",
    "\n"
   ]
  },
  {
   "cell_type": "code",
   "execution_count": 40,
   "id": "355ac567",
   "metadata": {},
   "outputs": [
    {
     "name": "stdout",
     "output_type": "stream",
     "text": [
      "Envoye d'un sms à Elysé au numero 340412284\n",
      "Envoye d'un sms à ZAndry au numero 31564564\n",
      "SMS envoyé avec succès\n",
      "SMS envoyé avec succès\n",
      "donnée reçu !\n",
      "{'userId': 1, 'id': 1, 'title': 'delectus aut autem', 'completed': False}\n"
     ]
    }
   ],
   "source": [
    "await main()"
   ]
  },
  {
   "cell_type": "code",
   "execution_count": 34,
   "id": "de278161",
   "metadata": {},
   "outputs": [
    {
     "name": "stdout",
     "output_type": "stream",
     "text": [
      "donnée reçu !\n",
      "{'userId': 1, 'id': 1, 'title': 'delectus aut autem', 'completed': False}\n"
     ]
    }
   ],
   "source": [
    "async def recuper_api():\n",
    "    url ='https://jsonplaceholder.typicode.com/todos'\n",
    "    session = aiohttp.ClientSession()\n",
    "\n",
    "    response = await session.get(url)\n",
    "\n",
    "    if response.status == 200:\n",
    "        print(\"donnée reçu !\")\n",
    "        data = await response.json()\n",
    "        print(data[0])\n",
    "\n",
    "    else :\n",
    "        print(\"un erreur se produise\")\n",
    "    await response.release()\n",
    "    await session.close()\n",
    "\n",
    "await recuper_api()\n"
   ]
  },
  {
   "cell_type": "code",
   "execution_count": null,
   "id": "f4dcf954",
   "metadata": {},
   "outputs": [],
   "source": []
  }
 ],
 "metadata": {
  "kernelspec": {
   "display_name": "venv",
   "language": "python",
   "name": "python3"
  },
  "language_info": {
   "codemirror_mode": {
    "name": "ipython",
    "version": 3
   },
   "file_extension": ".py",
   "mimetype": "text/x-python",
   "name": "python",
   "nbconvert_exporter": "python",
   "pygments_lexer": "ipython3",
   "version": "3.10.11"
  }
 },
 "nbformat": 4,
 "nbformat_minor": 5
}
