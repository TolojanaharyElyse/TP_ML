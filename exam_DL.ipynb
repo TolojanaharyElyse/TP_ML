{
 "cells": [
  {
   "cell_type": "code",
   "execution_count": 2,
   "id": "67c4e049",
   "metadata": {},
   "outputs": [],
   "source": [
    "import numpy as np \n",
    "import pandas as pd"
   ]
  },
  {
   "cell_type": "code",
   "execution_count": 7,
   "id": "dc675e42",
   "metadata": {},
   "outputs": [],
   "source": [
    "train_data = pd.read_json('E:/Data/script/Datasets/Exam_data_set/train_v2.jsonl' ,lines =True)\n",
    "test_data = pd.read_json('E:/Data/script/Datasets/Exam_data_set/test_v4.jsonl' ,lines =True)"
   ]
  },
  {
   "cell_type": "code",
   "execution_count": 6,
   "id": "b81a038f",
   "metadata": {},
   "outputs": [
    {
     "data": {
      "text/html": [
       "<div>\n",
       "<style scoped>\n",
       "    .dataframe tbody tr th:only-of-type {\n",
       "        vertical-align: middle;\n",
       "    }\n",
       "\n",
       "    .dataframe tbody tr th {\n",
       "        vertical-align: top;\n",
       "    }\n",
       "\n",
       "    .dataframe thead th {\n",
       "        text-align: right;\n",
       "    }\n",
       "</style>\n",
       "<table border=\"1\" class=\"dataframe\">\n",
       "  <thead>\n",
       "    <tr style=\"text-align: right;\">\n",
       "      <th></th>\n",
       "      <th>text</th>\n",
       "      <th>acronym</th>\n",
       "      <th>options</th>\n",
       "    </tr>\n",
       "  </thead>\n",
       "  <tbody>\n",
       "    <tr>\n",
       "      <th>0</th>\n",
       "      <td>LRA  limite de résistance des attelages PAR po...</td>\n",
       "      <td>PAR</td>\n",
       "      <td>{'Plan d'action régularité': False, 'Poste d'a...</td>\n",
       "    </tr>\n",
       "    <tr>\n",
       "      <th>1</th>\n",
       "      <td>Désigna -tion des PN</td>\n",
       "      <td>PN</td>\n",
       "      <td>{'Passages à niveau : fichier des pn, recensem...</td>\n",
       "    </tr>\n",
       "    <tr>\n",
       "      <th>2</th>\n",
       "      <td>prédéterminées de trains : _x0001_ les masses ...</td>\n",
       "      <td>EM</td>\n",
       "      <td>{'EMERAINVILLE PONTAULT COMBAULT': False, 'Eng...</td>\n",
       "    </tr>\n",
       "    <tr>\n",
       "      <th>3</th>\n",
       "      <td>/Commentaires N° AC B81500 thermique:  compati...</td>\n",
       "      <td>AC</td>\n",
       "      <td>{'ACcès': False, 'Agent d'aCcompagnement ': Fa...</td>\n",
       "    </tr>\n",
       "    <tr>\n",
       "      <th>4</th>\n",
       "      <td>kilomètres/heure (ex : 12 pour 120 km/h), _x00...</td>\n",
       "      <td>TIV</td>\n",
       "      <td>{'THIVIERS': False, 'Trafic international voya...</td>\n",
       "    </tr>\n",
       "  </tbody>\n",
       "</table>\n",
       "</div>"
      ],
      "text/plain": [
       "                                                text acronym  \\\n",
       "0  LRA  limite de résistance des attelages PAR po...     PAR   \n",
       "1                              Désigna -tion des PN       PN   \n",
       "2  prédéterminées de trains : _x0001_ les masses ...      EM   \n",
       "3  /Commentaires N° AC B81500 thermique:  compati...      AC   \n",
       "4  kilomètres/heure (ex : 12 pour 120 km/h), _x00...     TIV   \n",
       "\n",
       "                                             options  \n",
       "0  {'Plan d'action régularité': False, 'Poste d'a...  \n",
       "1  {'Passages à niveau : fichier des pn, recensem...  \n",
       "2  {'EMERAINVILLE PONTAULT COMBAULT': False, 'Eng...  \n",
       "3  {'ACcès': False, 'Agent d'aCcompagnement ': Fa...  \n",
       "4  {'THIVIERS': False, 'Trafic international voya...  "
      ]
     },
     "execution_count": 6,
     "metadata": {},
     "output_type": "execute_result"
    }
   ],
   "source": [
    "train_data.head()"
   ]
  },
  {
   "cell_type": "code",
   "execution_count": 8,
   "id": "47a34318",
   "metadata": {},
   "outputs": [
    {
     "data": {
      "text/plain": [
       "(492, 3)"
      ]
     },
     "execution_count": 8,
     "metadata": {},
     "output_type": "execute_result"
    }
   ],
   "source": [
    "train_data.shape"
   ]
  },
  {
   "cell_type": "code",
   "execution_count": 9,
   "id": "fa26e839",
   "metadata": {},
   "outputs": [
    {
     "data": {
      "text/plain": [
       "(519, 4)"
      ]
     },
     "execution_count": 9,
     "metadata": {},
     "output_type": "execute_result"
    }
   ],
   "source": [
    "test_data.shape"
   ]
  },
  {
   "cell_type": "code",
   "execution_count": 18,
   "id": "646f54c8",
   "metadata": {},
   "outputs": [
    {
     "name": "stdout",
     "output_type": "stream",
     "text": [
      "{'EMERAINVILLE PONTAULT COMBAULT': False, 'Engin Moteur.   Terme général désignant tout véhicule ayant la propriété de se déplacer par ses propres moyens : machine, automoteur, élément automoteur, draisine, engin spécial motorisé non déraillable.': True, 'Emetteur': False, 'État membre': False, 'Étude mécanique': False, 'électro-magnétique': False}\n"
     ]
    }
   ],
   "source": [
    "print(train_data.loc[2,'options'])"
   ]
  },
  {
   "cell_type": "code",
   "execution_count": 14,
   "id": "5dc5e52f",
   "metadata": {},
   "outputs": [
    {
     "data": {
      "text/plain": [
       "text                                   Désigna -tion des PN \n",
       "acronym                                                   PN\n",
       "options    {'Passages à niveau : fichier des pn, recensem...\n",
       "Name: 1, dtype: object"
      ]
     },
     "execution_count": 14,
     "metadata": {},
     "output_type": "execute_result"
    }
   ],
   "source": [
    "train_data.loc[1,:]"
   ]
  },
  {
   "cell_type": "code",
   "execution_count": null,
   "id": "bcb78814",
   "metadata": {},
   "outputs": [],
   "source": []
  }
 ],
 "metadata": {
  "kernelspec": {
   "display_name": "venv",
   "language": "python",
   "name": "python3"
  },
  "language_info": {
   "codemirror_mode": {
    "name": "ipython",
    "version": 3
   },
   "file_extension": ".py",
   "mimetype": "text/x-python",
   "name": "python",
   "nbconvert_exporter": "python",
   "pygments_lexer": "ipython3",
   "version": "3.10.11"
  }
 },
 "nbformat": 4,
 "nbformat_minor": 5
}
